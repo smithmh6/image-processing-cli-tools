{
 "cells": [
  {
   "cell_type": "markdown",
   "metadata": {},
   "source": [
    "# Image Study\n",
    "This notebook is a study of how images are loaded into python, compared with values from MATLAB's imread() function."
   ]
  },
  {
   "cell_type": "code",
   "execution_count": 2,
   "metadata": {},
   "outputs": [],
   "source": [
    "# import packages\n",
    "# Import packages\n",
    "import ast\n",
    "import cv2 as cv\n",
    "import matplotlib.pyplot as plt\n",
    "import numpy as np\n",
    "from numpy.polynomial.polynomial import Polynomial\n",
    "from os import listdir\n",
    "from os.path import join, normpath\n",
    "import pandas as pd\n",
    "import PIL\n",
    "from scipy.signal import convolve2d\n",
    "from sys import exit\n",
    "from tqdm import tqdm\n",
    "\n",
    "# import local modules\n",
    "from shapes import Point, Rectangle\n",
    "from utils import roc_curve, load_roi, search_data, dark_correct, load_roi"
   ]
  },
  {
   "cell_type": "code",
   "execution_count": 3,
   "metadata": {},
   "outputs": [],
   "source": [
    "# path to test data from MATLAB output\n",
    "_TEST_PATH = normpath(\n",
    "    r\"C:\\Users\\hsmith\\OneDrive - THORLABS Inc\\Documents - Thorlabs Spectral Works\"\n",
    "    + r\"\\Customers\\DSTL\\S3 Kestrel Vision\\Task 3 MOE Imager Testing\\3.2 External Testing\"\n",
    "    + r\"\\Analysis\\Visible\\scene031\\matlab\"\n",
    ")\n",
    "\n",
    "# paths to selected files in test data\n",
    "_TEST_DARK_PATH = {\n",
    "    'raw': join(_TEST_PATH, 'DarkMOE.txt'),\n",
    "    'double': join(_TEST_PATH, 'DarkMOE_double.txt'),\n",
    "    'subsampled': join(_TEST_PATH, 'DarkMOE_subsampled.txt')\n",
    "}\n",
    "_TEST_ND_PATH = {\n",
    "    'raw': join(_TEST_PATH, 'NE03B.txt'),\n",
    "    'double': join(_TEST_PATH, 'NE03B_double.txt'),\n",
    "    'subsampled': join(_TEST_PATH, 'NE03B_subsampled.txt'),\n",
    "    'sub_dark': join(_TEST_PATH, 'NE03B_subsampled_darkcorrected.txt')\n",
    "}\n",
    "_TEST_MOE_1_PATH = {\n",
    "    'raw': join(_TEST_PATH, 'MOE1.txt'),\n",
    "    'double': join(_TEST_PATH, 'MOE1_double.txt'),\n",
    "    'subsampled': join(_TEST_PATH, 'MOE1_subsampled.txt'),\n",
    "    'sub_dark': join(_TEST_PATH, 'MOE1_subsampled_darkcorrected.txt'),\n",
    "    'sub_ratio': join(_TEST_PATH, 'MOE1_subsampled_darkcorrected_div_ND.txt')\n",
    "}\n",
    "\n",
    "# path to dataset\n",
    "_DATA_PATH = normpath(\n",
    "    r\"C:\\Users\\hsmith\\OneDrive - THORLABS Inc\\Documents - Thorlabs Spectral Works\"\n",
    "    + r\"\\Customers\\DSTL\\S3 Kestrel Vision\\Task 3 MOE Imager Testing\\3.2 External Testing\"\n",
    "    + r\"\\VIS\\scene031\\MOE\\set006\"\n",
    ")\n",
    "\n",
    "_ROI_PATH = normpath(\n",
    "    r\"C:\\Users\\hsmith\\OneDrive - THORLABS Inc\\Documents - Thorlabs Spectral Works\"\n",
    "    + r\"\\Customers\\DSTL\\S3 Kestrel Vision\\Task 3 MOE Imager Testing\\3.2 External Testing\"\n",
    "    + r\"\\Analysis\\Visible\\scene031\\matlab\\roi.txt\"\n",
    ")\n",
    "\n",
    "# paths to selected images in dataset\n",
    "_DARK_PATH = join(_DATA_PATH, '20220207_101953_DARK.tif')\n",
    "_ND_PATH = join(_DATA_PATH, '20220207_101953_NE03B.tif')\n",
    "_MOE_1_PATH = join(_DATA_PATH, '20220207_101953_VIS_MOE_01-04.tif')\n",
    "\n"
   ]
  },
  {
   "cell_type": "markdown",
   "metadata": {},
   "source": [
    "### TEST 1\n",
    "Compare MATLAB imread() with cv.imread(). OpenCv imread() is called using `-1` so that the image is read \"as-is\"."
   ]
  },
  {
   "cell_type": "code",
   "execution_count": 4,
   "metadata": {},
   "outputs": [
    {
     "name": "stdout",
     "output_type": "stream",
     "text": [
      "Reading test file..\n",
      "Test Dark: <class 'numpy.ndarray'> | (2048, 2448) | uint16 | 1 | 368\n",
      "Data Dark: <class 'numpy.ndarray'> | (2048, 2448) | uint16 | 1 | 368\n"
     ]
    }
   ],
   "source": [
    "# read in test darkfield image\n",
    "test_dark = []\n",
    "with open(_TEST_DARK_PATH['raw'], 'r') as f:\n",
    "    print(\"Reading test file..\")\n",
    "    for line in f:\n",
    "        test_dark.append(\n",
    "            list(ast.literal_eval(line))\n",
    "        )\n",
    "test_dark = np.asarray(test_dark, dtype=np.uint16)\n",
    "print(\n",
    "    f'Test Dark: {type(test_dark)} | {np.shape(test_dark)} | {test_dark.dtype}'\n",
    "    + f' | {np.min(test_dark)} | {np.max(test_dark)}'\n",
    ")\n",
    "\n",
    "# read in dataset darkfield image\n",
    "data_dark = cv.imread(_DARK_PATH, -1)\n",
    "print(\n",
    "    f'Data Dark: {type(test_dark)} | {np.shape(test_dark)} | {data_dark.dtype}'\n",
    "    + f' | {np.min(data_dark)} | {np.max(data_dark)}'\n",
    ")\n"
   ]
  },
  {
   "cell_type": "code",
   "execution_count": 5,
   "metadata": {},
   "outputs": [
    {
     "name": "stdout",
     "output_type": "stream",
     "text": [
      "Darkfield raw data is equivalent. Test 1 passed.\n"
     ]
    }
   ],
   "source": [
    "# make assertions about the raw dark data\n",
    "assert type(test_dark) == type(test_dark)  # assert array types match\n",
    "assert test_dark.dtype == data_dark.dtype  # assert datatypes match\n",
    "assert np.shape(test_dark) == np.shape(test_dark)  # assert shapes\n",
    "assert np.min(test_dark) == np.min(data_dark)  # assert min value\n",
    "assert np.max(test_dark) == np.max(data_dark)  # assert max value\n",
    "np.testing.assert_array_almost_equal(test_dark, data_dark, decimal=14)  # assert equal to E-14\n",
    "print('Darkfield raw data is equivalent. Test 1 passed.')"
   ]
  },
  {
   "cell_type": "markdown",
   "metadata": {},
   "source": [
    "### TEST 2\n",
    "Convert the opencv dark field image array to floating point, and compare with 'double' values from MATLAB."
   ]
  },
  {
   "cell_type": "code",
   "execution_count": 6,
   "metadata": {},
   "outputs": [
    {
     "name": "stdout",
     "output_type": "stream",
     "text": [
      "Machine parameters for float64\n",
      "---------------------------------------------------------------\n",
      "precision =  15   resolution = 1.0000000000000001e-15\n",
      "machep =    -52   eps =        2.2204460492503131e-16\n",
      "negep =     -53   epsneg =     1.1102230246251565e-16\n",
      "minexp =  -1022   tiny =       2.2250738585072014e-308\n",
      "maxexp =   1024   max =        1.7976931348623157e+308\n",
      "nexp =       11   min =        -max\n",
      "smallest_normal = 2.2250738585072014e-308   smallest_subnormal = 4.9406564584124654e-324\n",
      "---------------------------------------------------------------\n",
      "\n",
      "Reading test file..\n",
      "Test Dark - Float: <class 'numpy.ndarray'> | (2048, 2448) | float64 | 1.5259e-05 | 0.0056153\n",
      "Data Dark - Float: <class 'numpy.ndarray'> | (2048, 2448) | float64 | 1.5259021896696422e-05 | 0.005615320057984283\n"
     ]
    }
   ],
   "source": [
    "# print floating point information\n",
    "print(np.finfo(np.float64))\n",
    "\n",
    "# load the floating point test darkfield image\n",
    "test_dark_float = []\n",
    "with open(_TEST_DARK_PATH['double'], 'r') as f:\n",
    "    print(\"Reading test file..\")\n",
    "    for line in f:\n",
    "        test_dark_float.append(\n",
    "            list(ast.literal_eval(line))\n",
    "        )\n",
    "test_dark_float = np.asarray(test_dark_float)\n",
    "print(\n",
    "    f'Test Dark - Float: {type(test_dark_float)} | {np.shape(test_dark_float)} | {test_dark_float.dtype}'\n",
    "    + f' | {np.min(test_dark_float)} | {np.max(test_dark_float)}'\n",
    ")\n",
    "\n",
    "# convert cv dark image to floating point\n",
    "data_dark_float = data_dark.astype(np.float64) / 65535.0  # <----- numbers must be scaled to 16-bits\n",
    "print(\n",
    "    f'Data Dark - Float: {type(data_dark_float)} | {np.shape(data_dark_float)} | {data_dark_float.dtype}'\n",
    "    + f' | {np.min(data_dark_float)} | {np.max(data_dark_float)}'\n",
    ")"
   ]
  },
  {
   "cell_type": "code",
   "execution_count": 7,
   "metadata": {},
   "outputs": [
    {
     "name": "stdout",
     "output_type": "stream",
     "text": [
      "Darkfield floating point data is equivalent. Test 2 passed.\n"
     ]
    }
   ],
   "source": [
    "# make assertions about the converted dark data\n",
    "assert type(test_dark_float) == type(test_dark_float)  # assert array types match\n",
    "assert test_dark_float.dtype == data_dark_float.dtype  # assert datatypes match\n",
    "assert np.shape(test_dark_float) == np.shape(test_dark_float)  # assert shapes\n",
    "np.testing.assert_almost_equal(np.min(test_dark_float), np.min(data_dark_float), decimal=10)  # assert min value\n",
    "np.testing.assert_almost_equal(np.max(test_dark_float), np.max(data_dark_float), decimal=7)  # assert max value\n",
    "np.testing.assert_array_almost_equal(test_dark_float, data_dark_float, decimal=7)  # assert equal to E-7\n",
    "print('Darkfield floating point data is equivalent. Test 2 passed.')"
   ]
  },
  {
   "cell_type": "markdown",
   "metadata": {},
   "source": [
    "### TEST 3\n",
    "Subsample the test darkfield image and the dataset darkfield image then compare the results."
   ]
  },
  {
   "cell_type": "code",
   "execution_count": 8,
   "metadata": {},
   "outputs": [
    {
     "name": "stdout",
     "output_type": "stream",
     "text": [
      "Reading test file..\n",
      "Test Dark - Subsampled: <class 'numpy.ndarray'> | (1024, 1224) | float64 | 4.5777e-05 | 0.0014649\n",
      "Original Data Shape: (2048, 2448)\n",
      "Data Dark - Subsampled: <class 'numpy.ndarray'> | (1024, 1224) | float64 | 4.5777065690089265e-05 | 0.0014648661020828567\n"
     ]
    }
   ],
   "source": [
    "# load the subsampled floating point test darkfield image\n",
    "test_dark_sub = []\n",
    "with open(_TEST_DARK_PATH['subsampled'], 'r') as f:\n",
    "    print(\"Reading test file..\")\n",
    "    for line in f:\n",
    "        test_dark_sub.append(\n",
    "            list(ast.literal_eval(line))\n",
    "        )\n",
    "test_dark_sub = np.asarray(test_dark_sub)\n",
    "print(\n",
    "    f'Test Dark - Subsampled: {type(test_dark_sub)} | {np.shape(test_dark_sub)} | {test_dark_sub.dtype}'\n",
    "    + f' | {np.min(test_dark_sub)} | {np.max(test_dark_sub)}'\n",
    ")\n",
    "\n",
    "# convert cv dark image to floating point\n",
    "h, w = data_dark_float.shape\n",
    "print(f'Original Data Shape: {data_dark_float.shape}')\n",
    "data_dark_sub = cv.resize(data_dark_float, (w//2, h//2))\n",
    "print(\n",
    "    f'Data Dark - Subsampled: {type(data_dark_sub)} | {np.shape(data_dark_sub)} | {data_dark_sub.dtype}'\n",
    "    + f' | {np.min(data_dark_sub)} | {np.max(data_dark_sub)}'\n",
    ")"
   ]
  },
  {
   "cell_type": "code",
   "execution_count": 9,
   "metadata": {},
   "outputs": [
    {
     "name": "stdout",
     "output_type": "stream",
     "text": [
      "Darkfield downsampled data is equivalent. Test 3 passed.\n"
     ]
    }
   ],
   "source": [
    "# make assertions about the downsampled dark data\n",
    "assert type(test_dark_sub) == type(data_dark_sub)  # assert array types match\n",
    "assert test_dark_sub.dtype == data_dark_sub.dtype  # assert datatypes match\n",
    "assert np.shape(test_dark_sub) == np.shape(data_dark_sub)  # assert shapes\n",
    "np.testing.assert_almost_equal(np.min(test_dark_sub), np.min(data_dark_sub), decimal=10)  # assert min value\n",
    "np.testing.assert_almost_equal(np.max(test_dark_sub), np.max(data_dark_sub), decimal=7)  # assert max value\n",
    "np.testing.assert_array_almost_equal(test_dark_sub, data_dark_sub, decimal=7)  # assert equal to E-7\n",
    "print('Darkfield downsampled data is equivalent. Test 3 passed.')"
   ]
  },
  {
   "cell_type": "markdown",
   "metadata": {},
   "source": [
    "### TEST 4\n",
    "Compare MOE_1 subsampled and dark corrected with the test data."
   ]
  },
  {
   "cell_type": "code",
   "execution_count": 10,
   "metadata": {},
   "outputs": [
    {
     "name": "stdout",
     "output_type": "stream",
     "text": [
      "Reading test file..\n",
      "Test MOE 1 Raw: <class 'numpy.ndarray'> | (2048, 2448) | int32 | 44 | 4094\n",
      "Reading test file..\n",
      "Test MOE 1 Floating Point: <class 'numpy.ndarray'> | (2048, 2448) | float64 | 0.0006714 | 0.06247\n",
      "Reading test file..\n",
      "Test MOE 1 Downsampled: <class 'numpy.ndarray'> | (1024, 1224) | float64 | 0.00077058 | 0.06247\n",
      "Reading test file..\n",
      "Test MOE 1 Dark Corrected: <class 'numpy.ndarray'> | (1024, 1224) | float64 | 0.00069047 | 0.062398\n"
     ]
    }
   ],
   "source": [
    "# load in MOE 1 test data for comparison\n",
    "test_moe_1 = []\n",
    "with open(_TEST_MOE_1_PATH['raw'], 'r') as f:\n",
    "    print(\"Reading test file..\")\n",
    "    for line in f:\n",
    "        test_moe_1.append(\n",
    "            list(ast.literal_eval(line))\n",
    "        )\n",
    "test_moe_1 = np.asarray(test_moe_1)\n",
    "print(\n",
    "    f'Test MOE 1 Raw: {type(test_moe_1)} | {np.shape(test_moe_1)} | {test_moe_1.dtype}'\n",
    "    + f' | {np.min(test_moe_1)} | {np.max(test_moe_1)}'\n",
    ")\n",
    "\n",
    "# load in MOE 1 floating point data\n",
    "test_moe_1_float = []\n",
    "with open(_TEST_MOE_1_PATH['double'], 'r') as f:\n",
    "    print(\"Reading test file..\")\n",
    "    for line in f:\n",
    "        test_moe_1_float.append(\n",
    "            list(ast.literal_eval(line))\n",
    "        )\n",
    "test_moe_1_float = np.asarray(test_moe_1_float)\n",
    "print(\n",
    "    f'Test MOE 1 Floating Point: {type(test_moe_1_float)} | {np.shape(test_moe_1_float)} | {test_moe_1_float.dtype}'\n",
    "    + f' | {np.min(test_moe_1_float)} | {np.max(test_moe_1_float)}'\n",
    ")\n",
    "\n",
    "# load in MOE 1 subsampled data\n",
    "test_moe_1_subsample = []\n",
    "with open(_TEST_MOE_1_PATH['subsampled'], 'r') as f:\n",
    "    print(\"Reading test file..\")\n",
    "    for line in f:\n",
    "        test_moe_1_subsample.append(\n",
    "            list(ast.literal_eval(line))\n",
    "        )\n",
    "test_moe_1_subsample = np.asarray(test_moe_1_subsample)\n",
    "print(\n",
    "    f'Test MOE 1 Downsampled: {type(test_moe_1_subsample)} | {np.shape(test_moe_1_subsample)} | {test_moe_1_subsample.dtype}'\n",
    "    + f' | {np.min(test_moe_1_subsample)} | {np.max(test_moe_1_subsample)}'\n",
    ")\n",
    "\n",
    "# load in the dark corrected/downsampled MOE_1 image\n",
    "test_moe_dark_sub = []\n",
    "with open(_TEST_MOE_1_PATH['sub_dark'], 'r') as f:\n",
    "    print(\"Reading test file..\")\n",
    "    for line in f:\n",
    "        test_moe_dark_sub.append(\n",
    "            list(ast.literal_eval(line))\n",
    "        )\n",
    "test_moe_dark_sub = np.asarray(test_moe_dark_sub)\n",
    "print(\n",
    "    f'Test MOE 1 Dark Corrected: {type(test_moe_dark_sub)} | {np.shape(test_moe_dark_sub)} | {test_moe_dark_sub.dtype}'\n",
    "    + f' | {np.min(test_moe_dark_sub)} | {np.max(test_moe_dark_sub)}'\n",
    ")"
   ]
  },
  {
   "cell_type": "code",
   "execution_count": 11,
   "metadata": {},
   "outputs": [
    {
     "name": "stdout",
     "output_type": "stream",
     "text": [
      "MOE 1 Raw: <class 'numpy.ndarray'> | (2048, 2448) | uint16 | 44 | 4094\n",
      "MOE 1 Floating Point: <class 'numpy.ndarray'> | (2048, 2448) | float64 | 0.0006713969634546426 | 0.06247043564507515\n",
      "MOE 1 Downsampled: <class 'numpy.ndarray'> | (1024, 1224) | float64 | 0.0007705806057831693 | 0.06247043564507515\n",
      "MOE 1 Dark Corrected: <class 'numpy.ndarray'> | (1024, 1224) | float64 | 0.000690470740825513 | 0.06239795529106584\n"
     ]
    }
   ],
   "source": [
    "# load in the MOE 1 image\n",
    "moe_1_data_raw = cv.imread(_MOE_1_PATH, -1)\n",
    "print(\n",
    "    f'MOE 1 Raw: {type(moe_1_data_raw)} | {np.shape(moe_1_data_raw)} | {moe_1_data_raw.dtype}'\n",
    "    + f' | {np.min(moe_1_data_raw)} | {np.max(moe_1_data_raw)}'\n",
    ")\n",
    "\n",
    "# convert to floating point\n",
    "moe_1_data_float = moe_1_data_raw.astype(np.float64) / 65535.0  # scale to floating point\n",
    "print(\n",
    "    f'MOE 1 Floating Point: {type(moe_1_data_float)} | {np.shape(moe_1_data_float)} | {moe_1_data_float.dtype}'\n",
    "    + f' | {np.min(moe_1_data_float)} | {np.max(moe_1_data_float)}'\n",
    ")\n",
    "\n",
    "# downsample the MOE data\n",
    "h, w = moe_1_data_float.shape\n",
    "moe_1_data_down= cv.resize(moe_1_data_float, (w//2, h//2))\n",
    "print(\n",
    "    f'MOE 1 Downsampled: {type(moe_1_data_down)} | {np.shape(moe_1_data_down)} | {moe_1_data_down.dtype}'\n",
    "    + f' | {np.min(moe_1_data_down)} | {np.max(moe_1_data_down)}'\n",
    ")\n",
    "\n",
    "\n",
    "# subtract downsampled dark from moe_1 data\n",
    "moe_1_dark_subtract = np.subtract(moe_1_data_down, data_dark_sub)\n",
    "print(\n",
    "    f'MOE 1 Dark Corrected: {type(moe_1_dark_subtract)} | {np.shape(moe_1_dark_subtract)} | {moe_1_dark_subtract.dtype}'\n",
    "    + f' | {np.min(moe_1_dark_subtract)} | {np.max(moe_1_dark_subtract)}'\n",
    ")"
   ]
  },
  {
   "cell_type": "markdown",
   "metadata": {},
   "source": [
    "### TEST 5\n",
    "Check the MOE/ND ratio against the test dataset."
   ]
  },
  {
   "cell_type": "code",
   "execution_count": 12,
   "metadata": {},
   "outputs": [
    {
     "name": "stdout",
     "output_type": "stream",
     "text": [
      "Reading test file..\n",
      "Test ND Raw: <class 'numpy.ndarray'> | (1024, 1224) | float64 | 0.00034333 | 0.062409\n",
      "Reading test file..\n",
      "Test MOE 1 / ND: <class 'numpy.ndarray'> | (1024, 1224) | float64 | 0.22737 | 4.8426\n"
     ]
    }
   ],
   "source": [
    "# read in the sub-sampled ND image for comparison\n",
    "test_nd_filter = []\n",
    "with open(_TEST_ND_PATH['sub_dark'], 'r') as f:\n",
    "    print(\"Reading test file..\")\n",
    "    for line in f:\n",
    "        test_nd_filter.append(\n",
    "            list(ast.literal_eval(line))\n",
    "        )\n",
    "test_nd_filter = np.asarray(test_nd_filter)\n",
    "print(\n",
    "    f'Test ND Raw: {type(test_nd_filter)} | {np.shape(test_nd_filter)} | {test_nd_filter.dtype}'\n",
    "    + f' | {np.min(test_nd_filter)} | {np.max(test_nd_filter)}'\n",
    ")\n",
    "\n",
    "# load in the MOE/ND ratio test image\n",
    "test_moe_nd = []\n",
    "with open(_TEST_MOE_1_PATH['sub_ratio'], 'r') as f:\n",
    "    print(\"Reading test file..\")\n",
    "    for line in f:\n",
    "        test_moe_nd.append(\n",
    "            list(ast.literal_eval(line))\n",
    "        )\n",
    "test_moe_nd = np.asarray(test_moe_nd)\n",
    "print(\n",
    "    f'Test MOE 1 / ND: {type(test_moe_nd)} | {np.shape(test_moe_nd)} | {test_moe_nd.dtype}'\n",
    "    + f' | {np.min(test_moe_nd)} | {np.max(test_moe_nd)}'\n",
    ")"
   ]
  },
  {
   "cell_type": "code",
   "execution_count": 13,
   "metadata": {},
   "outputs": [
    {
     "name": "stdout",
     "output_type": "stream",
     "text": [
      "ND Image Raw: <class 'numpy.ndarray'> | (2048, 2448) | uint16 | 22 | 4094\n",
      "ND Image Floating Point: <class 'numpy.ndarray'> | (2048, 2448) | float64 | 0.0003356984817273213 | 0.06247043564507515\n",
      "ND Image Downsampled: <class 'numpy.ndarray'> | (1024, 1224) | float64 | 0.0004234378576333257 | 0.06247043564507515\n",
      "ND Image Dark Corrected: <class 'numpy.ndarray'> | (1024, 1224) | float64 | 0.0003433279926756695 | 0.062409399557488365\n"
     ]
    }
   ],
   "source": [
    "# load the ND image from dataset\n",
    "nd_image = cv.imread(_ND_PATH, -1)\n",
    "print(\n",
    "    f'ND Image Raw: {type(nd_image)} | {np.shape(nd_image)} | {nd_image.dtype}'\n",
    "    + f' | {np.min(nd_image)} | {np.max(nd_image)}'\n",
    ")\n",
    "\n",
    "\n",
    "\n",
    "nd_image = nd_image.astype(np.float64) / 65535.0  # convert to float\n",
    "print(\n",
    "    f'ND Image Floating Point: {type(nd_image)} | {np.shape(nd_image)} | {nd_image.dtype}'\n",
    "    + f' | {np.min(nd_image)} | {np.max(nd_image)}'\n",
    ")\n",
    "\n",
    "\n",
    "\n",
    "h, w = nd_image.shape\n",
    "nd_image = cv.resize(nd_image, (w//2, h//2))  # downsample\n",
    "print(\n",
    "    f'ND Image Downsampled: {type(nd_image)} | {np.shape(nd_image)} | {nd_image.dtype}'\n",
    "    + f' | {np.min(nd_image)} | {np.max(nd_image)}'\n",
    ")\n",
    "\n",
    "\n",
    "\n",
    "nd_image = np.subtract(nd_image, data_dark_sub)  # dark correction\n",
    "print(\n",
    "    f'ND Image Dark Corrected: {type(nd_image)} | {np.shape(nd_image)} | {nd_image.dtype}'\n",
    "    + f' | {np.min(nd_image)} | {np.max(nd_image)}'\n",
    ")\n",
    "\n",
    "\n"
   ]
  },
  {
   "cell_type": "code",
   "execution_count": 14,
   "metadata": {},
   "outputs": [
    {
     "name": "stdout",
     "output_type": "stream",
     "text": [
      "MOE / ND Image Data: <class 'numpy.ndarray'> | (1024, 1224) | float64 | 0.22737146994931204 | 4.842603550295858\n"
     ]
    }
   ],
   "source": [
    "# divide the MOE image by the ND image\n",
    "moe_nd_data = np.divide(moe_1_dark_subtract, nd_image)\n",
    "print(\n",
    "    f'MOE / ND Image Data: {type(moe_nd_data)} | {np.shape(moe_nd_data)} | {moe_nd_data.dtype}'\n",
    "    + f' | {np.min(moe_nd_data)} | {np.max(moe_nd_data)}'\n",
    ")"
   ]
  },
  {
   "cell_type": "markdown",
   "metadata": {},
   "source": [
    "## Load ROI's\n",
    "Extract the intensities of the ROI regions from the test and dataset images.\n"
   ]
  },
  {
   "cell_type": "code",
   "execution_count": 17,
   "metadata": {},
   "outputs": [
    {
     "name": "stdout",
     "output_type": "stream",
     "text": [
      "Target ROI: [(969, 539), (1009, 539), (969, 599), (1009, 599)]\n",
      "MOE / ND Image Data: <class 'numpy.ndarray'> | (1, 2501) | float64 | 0.9462136717151043 | 1.0041734094199812\n"
     ]
    }
   ],
   "source": [
    "targ, _ = load_roi(_ROI_PATH)\n",
    "\n",
    "print(f'Target ROI: {targ}')\n",
    "\n",
    "moe_nd_target_class = []\n",
    "moe_nd_target_class.append(\n",
    "    (moe_nd_data[\n",
    "            targ.top_left.y : targ.bottom_left.y+1,\n",
    "            targ.top_left.x : targ.top_right.x+1\n",
    "        ]\n",
    "    ).flatten()\n",
    ")\n",
    "\n",
    "moe_nd_target_class = np.asarray(moe_nd_target_class)\n",
    "print(\n",
    "    f'MOE / ND Image Data: {type(moe_nd_target_class)} | {np.shape(moe_nd_target_class)} | {moe_nd_target_class.dtype}'\n",
    "    + f' | {np.min(moe_nd_target_class)} | {np.max(moe_nd_target_class)}'\n",
    ")"
   ]
  },
  {
   "cell_type": "code",
   "execution_count": 19,
   "metadata": {},
   "outputs": [
    {
     "name": "stdout",
     "output_type": "stream",
     "text": [
      "MOE / ND Image Data: <class 'numpy.ndarray'> | (1, 2501) | float64 | 0.94621 | 1.0042\n"
     ]
    }
   ],
   "source": [
    "# extract the ROI's from the test image\n",
    "test_moe_nd_target_class = []\n",
    "test_moe_nd_target_class.append(\n",
    "    (test_moe_nd[\n",
    "            targ.top_left.y : targ.bottom_left.y+1,\n",
    "            targ.top_left.x : targ.top_right.x+1\n",
    "        ]\n",
    "    ).flatten()\n",
    ")\n",
    "\n",
    "test_moe_nd_target_class = np.asarray(test_moe_nd_target_class)\n",
    "print(\n",
    "    f'MOE / ND Image Data: {type(test_moe_nd_target_class)} | {np.shape(test_moe_nd_target_class)} | {test_moe_nd_target_class.dtype}'\n",
    "    + f' | {np.min(test_moe_nd_target_class)} | {np.max(test_moe_nd_target_class)}'\n",
    ")"
   ]
  },
  {
   "cell_type": "code",
   "execution_count": 23,
   "metadata": {},
   "outputs": [],
   "source": [
    "# assert arrays equal\n",
    "np.testing.assert_array_almost_equal(moe_nd_target_class, test_moe_nd_target_class, decimal=4)"
   ]
  }
 ],
 "metadata": {
  "interpreter": {
   "hash": "6bbae05e7a5bda3f0aa0cbca9de00ab7260dc954bb7ccc4819da692c064387c9"
  },
  "kernelspec": {
   "display_name": "Python 3.9.6 ('env': venv)",
   "language": "python",
   "name": "python3"
  },
  "language_info": {
   "codemirror_mode": {
    "name": "ipython",
    "version": 3
   },
   "file_extension": ".py",
   "mimetype": "text/x-python",
   "name": "python",
   "nbconvert_exporter": "python",
   "pygments_lexer": "ipython3",
   "version": "3.9.6"
  },
  "orig_nbformat": 4
 },
 "nbformat": 4,
 "nbformat_minor": 2
}
